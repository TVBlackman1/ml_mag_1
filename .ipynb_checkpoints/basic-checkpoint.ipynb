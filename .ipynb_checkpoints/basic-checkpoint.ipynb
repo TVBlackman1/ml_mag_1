{
 "cells": [
  {
   "cell_type": "code",
   "execution_count": null,
   "id": "5f59de42-2ef2-4fc6-b531-ebb2adec85f4",
   "metadata": {},
   "outputs": [],
   "source": [
    "import kagglehub\n",
    "\n",
    "# Download latest version\n",
    "path = kagglehub.dataset_download(\"shashanks1202/apartment-rent-data\")\n",
    "\n",
    "\n",
    "print(\"Path to dataset files:\", path)"
   ]
  },
  {
   "cell_type": "code",
   "execution_count": null,
   "id": "82ec6f75-2a85-495a-8f3e-c4c7400f2496",
   "metadata": {},
   "outputs": [],
   "source": [
    "import pandas as pd"
   ]
  },
  {
   "cell_type": "code",
   "execution_count": null,
   "id": "42e6c79b-7515-4ce5-9c46-1435ab34fc83",
   "metadata": {},
   "outputs": [],
   "source": [
    "rel_csv_path = 'apartments_for_rent_classified_100K/apartments_for_rent_classified_100K.csv'\n",
    "data = pd.read_csv(f'{path}/{rel_csv_path}', encoding='cp1252', sep=\";\")"
   ]
  },
  {
   "cell_type": "code",
   "execution_count": null,
   "id": "d55b87a1-9a93-412f-8f2e-af960d0a4619",
   "metadata": {},
   "outputs": [],
   "source": [
    "data.isnull().sum() / len(data) * 100"
   ]
  },
  {
   "cell_type": "code",
   "execution_count": null,
   "id": "4a1ef3fa-a12b-4375-a1c5-3ce7596a3e1b",
   "metadata": {},
   "outputs": [],
   "source": []
  },
  {
   "cell_type": "code",
   "execution_count": null,
   "id": "623fbf3d-bb65-4964-9367-a5b45584efa4",
   "metadata": {},
   "outputs": [],
   "source": []
  }
 ],
 "metadata": {
  "kernelspec": {
   "display_name": "Python 3 (ipykernel)",
   "language": "python",
   "name": "python3"
  },
  "language_info": {
   "codemirror_mode": {
    "name": "ipython",
    "version": 3
   },
   "file_extension": ".py",
   "mimetype": "text/x-python",
   "name": "python",
   "nbconvert_exporter": "python",
   "pygments_lexer": "ipython3",
   "version": "3.12.6"
  }
 },
 "nbformat": 4,
 "nbformat_minor": 5
}
