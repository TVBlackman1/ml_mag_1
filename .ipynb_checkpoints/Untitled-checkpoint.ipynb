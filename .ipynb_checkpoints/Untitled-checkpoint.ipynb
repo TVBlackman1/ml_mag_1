{
 "cells": [
  {
   "cell_type": "code",
   "execution_count": 109,
   "id": "98e803e0-c80f-4f0b-b1cd-6a93894357b3",
   "metadata": {},
   "outputs": [],
   "source": [
    "using DataFrames, CSV, Statistics, Plots"
   ]
  },
  {
   "cell_type": "code",
   "execution_count": 110,
   "id": "9f79ce1d-d67d-4d9f-adfc-7265f6a75647",
   "metadata": {},
   "outputs": [
    {
     "data": {
      "text/html": [
       "<div><div style = \"float: left;\"><span>1×22 DataFrame</span></div><div style = \"clear: both;\"></div></div><div class = \"data-frame\" style = \"overflow-x: scroll;\"><table class = \"data-frame\" style = \"margin-bottom: 6px;\"><thead><tr class = \"header\"><th class = \"rowNumber\" style = \"font-weight: bold; text-align: right;\">Row</th><th style = \"text-align: left;\">id</th><th style = \"text-align: left;\">category</th><th style = \"text-align: left;\">title</th><th style = \"text-align: left;\">body</th><th style = \"text-align: left;\">amenities</th><th style = \"text-align: left;\">bathrooms</th><th style = \"text-align: left;\">bedrooms</th><th style = \"text-align: left;\">currency</th><th style = \"text-align: left;\">fee</th><th style = \"text-align: left;\">has_photo</th><th style = \"text-align: left;\">pets_allowed</th><th style = \"text-align: left;\">price</th><th style = \"text-align: left;\">price_display</th><th style = \"text-align: left;\">price_type</th><th style = \"text-align: left;\">square_feet</th><th style = \"text-align: left;\">address</th><th style = \"text-align: left;\">cityname</th><th style = \"text-align: left;\">state</th><th style = \"text-align: left;\">latitude</th><th style = \"text-align: left;\">longitude</th><th style = \"text-align: left;\">source</th><th style = \"text-align: left;\">time</th></tr><tr class = \"subheader headerLastRow\"><th class = \"rowNumber\" style = \"font-weight: bold; text-align: right;\"></th><th title = \"Int64\" style = \"text-align: left;\">Int64</th><th title = \"String31\" style = \"text-align: left;\">String31</th><th title = \"String\" style = \"text-align: left;\">String</th><th title = \"String\" style = \"text-align: left;\">String</th><th title = \"String\" style = \"text-align: left;\">String</th><th title = \"String7\" style = \"text-align: left;\">String7</th><th title = \"String7\" style = \"text-align: left;\">String7</th><th title = \"String3\" style = \"text-align: left;\">String3</th><th title = \"String3\" style = \"text-align: left;\">String3</th><th title = \"String15\" style = \"text-align: left;\">String15</th><th title = \"String15\" style = \"text-align: left;\">String15</th><th title = \"String7\" style = \"text-align: left;\">String7</th><th title = \"String31\" style = \"text-align: left;\">String31</th><th title = \"String15\" style = \"text-align: left;\">String15</th><th title = \"Int64\" style = \"text-align: left;\">Int64</th><th title = \"String\" style = \"text-align: left;\">String</th><th title = \"String31\" style = \"text-align: left;\">String31</th><th title = \"String7\" style = \"text-align: left;\">String7</th><th title = \"String7\" style = \"text-align: left;\">String7</th><th title = \"String15\" style = \"text-align: left;\">String15</th><th title = \"String31\" style = \"text-align: left;\">String31</th><th title = \"Int64\" style = \"text-align: left;\">Int64</th></tr></thead><tbody><tr><td class = \"rowNumber\" style = \"font-weight: bold; text-align: right;\">1</td><td style = \"text-align: right;\">5668640009</td><td style = \"text-align: left;\">housing/rent/apartment</td><td style = \"text-align: left;\">One BR 507 &amp; 509 Esplanade</td><td style = \"text-align: left;\">This unit is located at 507 &amp; 509 Esplanade, Redondo Beach, 90277, CAMonthly rental rates range from $2195We have 1 beds units available for rent</td><td style = \"text-align: left;\">null</td><td style = \"text-align: left;\">1</td><td style = \"text-align: left;\">1</td><td style = \"text-align: left;\">USD</td><td style = \"text-align: left;\">No</td><td style = \"text-align: left;\">Thumbnail</td><td style = \"text-align: left;\">Cats</td><td style = \"text-align: left;\">2195</td><td style = \"text-align: left;\">$2,195</td><td style = \"text-align: left;\">Monthly</td><td style = \"text-align: right;\">542</td><td style = \"text-align: left;\">507  509 Esplanade</td><td style = \"text-align: left;\">Redondo Beach</td><td style = \"text-align: left;\">CA</td><td style = \"text-align: left;\">33.8520</td><td style = \"text-align: left;\">-118.3759</td><td style = \"text-align: left;\">RentLingo</td><td style = \"text-align: right;\">1577360355</td></tr></tbody></table></div>"
      ],
      "text/latex": [
       "\\begin{tabular}{r|ccccc}\n",
       "\t& id & category & title & body & \\\\\n",
       "\t\\hline\n",
       "\t& Int64 & String31 & String & String & \\\\\n",
       "\t\\hline\n",
       "\t1 & 5668640009 & housing/rent/apartment & One BR 507 \\& 509 Esplanade & This unit is located at 507 \\& 509 Esplanade, Redondo Beach, 90277, CAMonthly rental rates range from \\$2195We have 1 beds units available for rent & $\\dots$ \\\\\n",
       "\\end{tabular}\n"
      ],
      "text/plain": [
       "\u001b[1m1×22 DataFrame\u001b[0m\n",
       "\u001b[1m Row \u001b[0m│\u001b[1m id         \u001b[0m\u001b[1m category               \u001b[0m\u001b[1m title                      \u001b[0m\u001b[1m body   \u001b[0m ⋯\n",
       "     │\u001b[90m Int64      \u001b[0m\u001b[90m String31               \u001b[0m\u001b[90m String                     \u001b[0m\u001b[90m String \u001b[0m ⋯\n",
       "─────┼──────────────────────────────────────────────────────────────────────────\n",
       "   1 │ 5668640009  housing/rent/apartment  One BR 507 & 509 Esplanade  This un ⋯\n",
       "\u001b[36m                                                              19 columns omitted\u001b[0m"
      ]
     },
     "execution_count": 110,
     "metadata": {},
     "output_type": "execute_result"
    }
   ],
   "source": [
    "file = \"/home/mikhail/.cache/kagglehub/datasets/shashanks1202/apartment-rent-data/versions/1/apartments_for_rent_classified_100K/apartments_for_rent_classified_100K.csv\"\n",
    "\n",
    "# df = Impute.dataset(CSV.File(file)) |> DataFrame\n",
    "df = DataFrame(CSV.File(file))\n",
    "df[1:1, :];"
   ]
  },
  {
   "cell_type": "code",
   "execution_count": 92,
   "id": "b9ac92eb-dd8d-4d2b-9a8e-8d93008723f6",
   "metadata": {},
   "outputs": [],
   "source": [
    "df[!, :bathrooms] = [item == \"null\" ? missing : item for item in df[:, :bathrooms]]\n",
    "df[!, :bathrooms] = passmissing(parse).(Float64, df[:, :bathrooms]); # float, missing\n",
    "m = median(skipmissing(df.bathrooms))\n",
    "df[!, :bathrooms] = [ismissing(item) ? m : item for item in df[:, :bathrooms]]\n",
    "\n",
    "df[!, :amenities] = [item == \"null\" ? missing : item for item in df[:, :amenities]] # array of strings, missing\n",
    "\n",
    "df[!, :bedrooms] = [item == \"null\" ? missing : item for item in df[:, :bedrooms]]\n",
    "df[!, :bedrooms] = passmissing(parse).(Int64, df[:, :bedrooms]); # int, missing\n",
    "m = median(skipmissing(df.bedrooms))\n",
    "df[!, :bedrooms] = [ismissing(item) ? m : item for item in df[:, :bedrooms]]\n",
    "\n",
    "\n",
    "df[!, :price] = [item == \"null\" ? missing : item for item in df[:, :price]]\n",
    "df[!, :price] = passmissing(parse).(Float64, df[:, :price]); # float, missing\n",
    "m = median(skipmissing(df.price))\n",
    "df[!, :price] = [ismissing(item) ? m : item for item in df[:, :price]]\n",
    "\n",
    "#??\n",
    "df[!, :fee] = [item == \"Yes\" ? 1 : 0 for item in df[:, :fee]]\n",
    "df[!, :has_photo] = [item == \"Yes\" ? 1 : (item == \"Thumbnail\" ? 0 : -1) for item in df[:, :has_photo]]\n",
    "\n",
    "df[!, :pets_allowed] = [item == \"null\" ? missing : item for item in df[:, :pets_allowed]]\n",
    "df[!, :pets_allowed] = [ismissing(item) ? missing : (item == \"None\" ? 0 : size(split(item, \",\"))[1]+1) for item in df[:, :pets_allowed]]\n",
    "df[!, :pets_allowed] = [ismissing(item) ? 0 : item for item in df[:, :pets_allowed]]\n",
    "\n",
    "\n",
    "# currency - constant, USD\n",
    "# fee - Yes, No - additional service\n",
    "# has_photo - Yes, No, Thumbnail\n",
    "# pets_allowed - Array of pets, None, null\n",
    "# price_type - Monthly, Weekly, Monthly|Weekly\n",
    "# state - state short name\n",
    ";"
   ]
  },
  {
   "cell_type": "code",
   "execution_count": 93,
   "id": "29a0d592-3128-4123-861e-15c9043a8642",
   "metadata": {},
   "outputs": [
    {
     "data": {
      "text/html": [
       "<div><div style = \"float: left;\"><span>1×22 DataFrame</span></div><div style = \"clear: both;\"></div></div><div class = \"data-frame\" style = \"overflow-x: scroll;\"><table class = \"data-frame\" style = \"margin-bottom: 6px;\"><thead><tr class = \"header\"><th class = \"rowNumber\" style = \"font-weight: bold; text-align: right;\">Row</th><th style = \"text-align: left;\">id</th><th style = \"text-align: left;\">category</th><th style = \"text-align: left;\">title</th><th style = \"text-align: left;\">body</th><th style = \"text-align: left;\">amenities</th><th style = \"text-align: left;\">bathrooms</th><th style = \"text-align: left;\">bedrooms</th><th style = \"text-align: left;\">currency</th><th style = \"text-align: left;\">fee</th><th style = \"text-align: left;\">has_photo</th><th style = \"text-align: left;\">pets_allowed</th><th style = \"text-align: left;\">price</th><th style = \"text-align: left;\">price_display</th><th style = \"text-align: left;\">price_type</th><th style = \"text-align: left;\">square_feet</th><th style = \"text-align: left;\">address</th><th style = \"text-align: left;\">cityname</th><th style = \"text-align: left;\">state</th><th style = \"text-align: left;\">latitude</th><th style = \"text-align: left;\">longitude</th><th style = \"text-align: left;\">source</th><th style = \"text-align: left;\">time</th></tr><tr class = \"subheader headerLastRow\"><th class = \"rowNumber\" style = \"font-weight: bold; text-align: right;\"></th><th title = \"Int64\" style = \"text-align: left;\">Int64</th><th title = \"String31\" style = \"text-align: left;\">String31</th><th title = \"String\" style = \"text-align: left;\">String</th><th title = \"String\" style = \"text-align: left;\">String</th><th title = \"Union{Missing, String}\" style = \"text-align: left;\">String?</th><th title = \"Float64\" style = \"text-align: left;\">Float64</th><th title = \"Real\" style = \"text-align: left;\">Real</th><th title = \"String3\" style = \"text-align: left;\">String3</th><th title = \"Int64\" style = \"text-align: left;\">Int64</th><th title = \"Int64\" style = \"text-align: left;\">Int64</th><th title = \"Int64\" style = \"text-align: left;\">Int64</th><th title = \"Float64\" style = \"text-align: left;\">Float64</th><th title = \"String31\" style = \"text-align: left;\">String31</th><th title = \"String15\" style = \"text-align: left;\">String15</th><th title = \"Int64\" style = \"text-align: left;\">Int64</th><th title = \"String\" style = \"text-align: left;\">String</th><th title = \"String31\" style = \"text-align: left;\">String31</th><th title = \"String7\" style = \"text-align: left;\">String7</th><th title = \"String7\" style = \"text-align: left;\">String7</th><th title = \"String15\" style = \"text-align: left;\">String15</th><th title = \"String31\" style = \"text-align: left;\">String31</th><th title = \"Int64\" style = \"text-align: left;\">Int64</th></tr></thead><tbody><tr><td class = \"rowNumber\" style = \"font-weight: bold; text-align: right;\">1</td><td style = \"text-align: right;\">5668640009</td><td style = \"text-align: left;\">housing/rent/apartment</td><td style = \"text-align: left;\">One BR 507 &amp; 509 Esplanade</td><td style = \"text-align: left;\">This unit is located at 507 &amp; 509 Esplanade, Redondo Beach, 90277, CAMonthly rental rates range from $2195We have 1 beds units available for rent</td><td style = \"font-style: italic; text-align: left;\">missing</td><td style = \"text-align: right;\">1.0</td><td style = \"text-align: right;\">1</td><td style = \"text-align: left;\">USD</td><td style = \"text-align: right;\">0</td><td style = \"text-align: right;\">0</td><td style = \"text-align: right;\">2</td><td style = \"text-align: right;\">2195.0</td><td style = \"text-align: left;\">$2,195</td><td style = \"text-align: left;\">Monthly</td><td style = \"text-align: right;\">542</td><td style = \"text-align: left;\">507  509 Esplanade</td><td style = \"text-align: left;\">Redondo Beach</td><td style = \"text-align: left;\">CA</td><td style = \"text-align: left;\">33.8520</td><td style = \"text-align: left;\">-118.3759</td><td style = \"text-align: left;\">RentLingo</td><td style = \"text-align: right;\">1577360355</td></tr></tbody></table></div>"
      ],
      "text/latex": [
       "\\begin{tabular}{r|ccccc}\n",
       "\t& id & category & title & body & \\\\\n",
       "\t\\hline\n",
       "\t& Int64 & String31 & String & String & \\\\\n",
       "\t\\hline\n",
       "\t1 & 5668640009 & housing/rent/apartment & One BR 507 \\& 509 Esplanade & This unit is located at 507 \\& 509 Esplanade, Redondo Beach, 90277, CAMonthly rental rates range from \\$2195We have 1 beds units available for rent & $\\dots$ \\\\\n",
       "\\end{tabular}\n"
      ],
      "text/plain": [
       "\u001b[1m1×22 DataFrame\u001b[0m\n",
       "\u001b[1m Row \u001b[0m│\u001b[1m id         \u001b[0m\u001b[1m category               \u001b[0m\u001b[1m title                      \u001b[0m\u001b[1m body   \u001b[0m ⋯\n",
       "     │\u001b[90m Int64      \u001b[0m\u001b[90m String31               \u001b[0m\u001b[90m String                     \u001b[0m\u001b[90m String \u001b[0m ⋯\n",
       "─────┼──────────────────────────────────────────────────────────────────────────\n",
       "   1 │ 5668640009  housing/rent/apartment  One BR 507 & 509 Esplanade  This un ⋯\n",
       "\u001b[36m                                                              19 columns omitted\u001b[0m"
      ]
     },
     "execution_count": 93,
     "metadata": {},
     "output_type": "execute_result"
    }
   ],
   "source": [
    "df[1:1, :]"
   ]
  },
  {
   "cell_type": "code",
   "execution_count": 96,
   "id": "11ce8d33-e655-4539-a5ec-983086ba1a89",
   "metadata": {},
   "outputs": [
    {
     "data": {
      "text/plain": [
       "99492×2 Matrix{Float64}:\n",
       " 0.0  2195.0\n",
       " 0.0  1250.0\n",
       " 0.0  1395.0\n",
       " 0.0  1600.0\n",
       " 0.0   975.0\n",
       " 0.0  1250.0\n",
       " 0.0  1600.0\n",
       " 0.0  1300.0\n",
       " 0.0   795.0\n",
       " 0.0  2150.0\n",
       " 0.0  1795.0\n",
       " 0.0  3195.0\n",
       " 0.0  2395.0\n",
       " ⋮    \n",
       " 0.0  4495.0\n",
       " 0.0   945.0\n",
       " 0.0  1450.0\n",
       " 0.0  3200.0\n",
       " 0.0  1035.0\n",
       " 0.0  4395.0\n",
       " 0.0   798.0\n",
       " 0.0   780.0\n",
       " 0.0   813.0\n",
       " 0.0  1325.0\n",
       " 0.0   931.0\n",
       " 0.0  1595.0"
      ]
     },
     "execution_count": 96,
     "metadata": {},
     "output_type": "execute_result"
    }
   ],
   "source": [
    "Matrix(df[!, [:fee, :price]])"
   ]
  },
  {
   "cell_type": "code",
   "execution_count": 100,
   "id": "2330f236-b281-430f-9707-0117ea21389c",
   "metadata": {},
   "outputs": [
    {
     "ename": "LoadError",
     "evalue": "UndefVarError: `cgrad` not defined in `Main`\nSuggestion: check for spelling errors or missing imports.",
     "output_type": "error",
     "traceback": [
      "UndefVarError: `cgrad` not defined in `Main`\nSuggestion: check for spelling errors or missing imports.",
      "",
      "Stacktrace:",
      " [1] top-level scope",
      "   @ In[100]:5"
     ]
    }
   ],
   "source": [
    "cols = [:bathrooms, :bedrooms, :fee, :has_photo, :pets_allowed, :price]\n",
    "dfcor = [cols DataFrame(cor(Matrix(df[!, cols])), cols)]\n",
    "dfcor = cor(Matrix(df[!, cols]))\n",
    "(n,m) = size(dfcor)\n",
    "heatmap(M, fc=cgrad(cols), xticks=(1:m,cols), xrot=90, yticks=(1:m,cols), yflip=true)\n",
    "annotate!([(j, i, text(round(M[i,j],digits=3), 8,\"Computer Modern\",:black)) for i in 1:n for j in 1:m])"
   ]
  },
  {
   "cell_type": "code",
   "execution_count": 94,
   "id": "5312ae99-2c9b-4168-8555-d42fb9920724",
   "metadata": {},
   "outputs": [
    {
     "data": {
      "text/html": [
       "<div><div style = \"float: left;\"><span>16×1 DataFrame</span></div><div style = \"clear: both;\"></div></div><div class = \"data-frame\" style = \"overflow-x: scroll;\"><table class = \"data-frame\" style = \"margin-bottom: 6px;\"><thead><tr class = \"header\"><th class = \"rowNumber\" style = \"font-weight: bold; text-align: right;\">Row</th><th style = \"text-align: left;\">bathrooms</th></tr><tr class = \"subheader headerLastRow\"><th class = \"rowNumber\" style = \"font-weight: bold; text-align: right;\"></th><th title = \"Float64\" style = \"text-align: left;\">Float64</th></tr></thead><tbody><tr><td class = \"rowNumber\" style = \"font-weight: bold; text-align: right;\">1</td><td style = \"text-align: right;\">1.0</td></tr><tr><td class = \"rowNumber\" style = \"font-weight: bold; text-align: right;\">2</td><td style = \"text-align: right;\">1.5</td></tr><tr><td class = \"rowNumber\" style = \"font-weight: bold; text-align: right;\">3</td><td style = \"text-align: right;\">2.0</td></tr><tr><td class = \"rowNumber\" style = \"font-weight: bold; text-align: right;\">4</td><td style = \"text-align: right;\">2.5</td></tr><tr><td class = \"rowNumber\" style = \"font-weight: bold; text-align: right;\">5</td><td style = \"text-align: right;\">3.0</td></tr><tr><td class = \"rowNumber\" style = \"font-weight: bold; text-align: right;\">6</td><td style = \"text-align: right;\">3.5</td></tr><tr><td class = \"rowNumber\" style = \"font-weight: bold; text-align: right;\">7</td><td style = \"text-align: right;\">4.0</td></tr><tr><td class = \"rowNumber\" style = \"font-weight: bold; text-align: right;\">8</td><td style = \"text-align: right;\">7.0</td></tr><tr><td class = \"rowNumber\" style = \"font-weight: bold; text-align: right;\">9</td><td style = \"text-align: right;\">4.5</td></tr><tr><td class = \"rowNumber\" style = \"font-weight: bold; text-align: right;\">10</td><td style = \"text-align: right;\">5.0</td></tr><tr><td class = \"rowNumber\" style = \"font-weight: bold; text-align: right;\">11</td><td style = \"text-align: right;\">8.0</td></tr><tr><td class = \"rowNumber\" style = \"font-weight: bold; text-align: right;\">12</td><td style = \"text-align: right;\">8.5</td></tr><tr><td class = \"rowNumber\" style = \"font-weight: bold; text-align: right;\">13</td><td style = \"text-align: right;\">6.0</td></tr><tr><td class = \"rowNumber\" style = \"font-weight: bold; text-align: right;\">14</td><td style = \"text-align: right;\">5.5</td></tr><tr><td class = \"rowNumber\" style = \"font-weight: bold; text-align: right;\">15</td><td style = \"text-align: right;\">9.0</td></tr><tr><td class = \"rowNumber\" style = \"font-weight: bold; text-align: right;\">16</td><td style = \"text-align: right;\">7.5</td></tr></tbody></table></div>"
      ],
      "text/latex": [
       "\\begin{tabular}{r|c}\n",
       "\t& bathrooms\\\\\n",
       "\t\\hline\n",
       "\t& Float64\\\\\n",
       "\t\\hline\n",
       "\t1 & 1.0 \\\\\n",
       "\t2 & 1.5 \\\\\n",
       "\t3 & 2.0 \\\\\n",
       "\t4 & 2.5 \\\\\n",
       "\t5 & 3.0 \\\\\n",
       "\t6 & 3.5 \\\\\n",
       "\t7 & 4.0 \\\\\n",
       "\t8 & 7.0 \\\\\n",
       "\t9 & 4.5 \\\\\n",
       "\t10 & 5.0 \\\\\n",
       "\t11 & 8.0 \\\\\n",
       "\t12 & 8.5 \\\\\n",
       "\t13 & 6.0 \\\\\n",
       "\t14 & 5.5 \\\\\n",
       "\t15 & 9.0 \\\\\n",
       "\t16 & 7.5 \\\\\n",
       "\\end{tabular}\n"
      ],
      "text/plain": [
       "\u001b[1m16×1 DataFrame\u001b[0m\n",
       "\u001b[1m Row \u001b[0m│\u001b[1m bathrooms \u001b[0m\n",
       "     │\u001b[90m Float64   \u001b[0m\n",
       "─────┼───────────\n",
       "   1 │       1.0\n",
       "   2 │       1.5\n",
       "   3 │       2.0\n",
       "   4 │       2.5\n",
       "   5 │       3.0\n",
       "   6 │       3.5\n",
       "   7 │       4.0\n",
       "   8 │       7.0\n",
       "   9 │       4.5\n",
       "  10 │       5.0\n",
       "  11 │       8.0\n",
       "  12 │       8.5\n",
       "  13 │       6.0\n",
       "  14 │       5.5\n",
       "  15 │       9.0\n",
       "  16 │       7.5"
      ]
     },
     "execution_count": 94,
     "metadata": {},
     "output_type": "execute_result"
    }
   ],
   "source": [
    "unique(df[!, [:bathrooms]])"
   ]
  },
  {
   "cell_type": "code",
   "execution_count": 11,
   "id": "5f366a88-cdc3-4436-be98-50876648fee9",
   "metadata": {},
   "outputs": [
    {
     "data": {
      "text/html": [
       "<div><div style = \"float: left;\"><span>17×1 DataFrame</span></div><div style = \"clear: both;\"></div></div><div class = \"data-frame\" style = \"overflow-x: scroll;\"><table class = \"data-frame\" style = \"margin-bottom: 6px;\"><thead><tr class = \"header\"><th class = \"rowNumber\" style = \"font-weight: bold; text-align: right;\">Row</th><th style = \"text-align: left;\">bathrooms</th></tr><tr class = \"subheader headerLastRow\"><th class = \"rowNumber\" style = \"font-weight: bold; text-align: right;\"></th><th title = \"Union{Missing, String7}\" style = \"text-align: left;\">String7?</th></tr></thead><tbody><tr><td class = \"rowNumber\" style = \"font-weight: bold; text-align: right;\">1</td><td style = \"text-align: left;\">1</td></tr><tr><td class = \"rowNumber\" style = \"font-weight: bold; text-align: right;\">2</td><td style = \"text-align: left;\">1.5</td></tr><tr><td class = \"rowNumber\" style = \"font-weight: bold; text-align: right;\">3</td><td style = \"text-align: left;\">2</td></tr><tr><td class = \"rowNumber\" style = \"font-weight: bold; text-align: right;\">4</td><td style = \"text-align: left;\">2.5</td></tr><tr><td class = \"rowNumber\" style = \"font-weight: bold; text-align: right;\">5</td><td style = \"text-align: left;\">3</td></tr><tr><td class = \"rowNumber\" style = \"font-weight: bold; text-align: right;\">6</td><td style = \"text-align: left;\">3.5</td></tr><tr><td class = \"rowNumber\" style = \"font-weight: bold; text-align: right;\">7</td><td style = \"text-align: left;\">4</td></tr><tr><td class = \"rowNumber\" style = \"font-weight: bold; text-align: right;\">8</td><td style = \"text-align: left;\">7</td></tr><tr><td class = \"rowNumber\" style = \"font-weight: bold; text-align: right;\">9</td><td style = \"text-align: left;\">4.5</td></tr><tr><td class = \"rowNumber\" style = \"font-weight: bold; text-align: right;\">10</td><td style = \"font-style: italic; text-align: left;\">missing</td></tr><tr><td class = \"rowNumber\" style = \"font-weight: bold; text-align: right;\">11</td><td style = \"text-align: left;\">5</td></tr><tr><td class = \"rowNumber\" style = \"font-weight: bold; text-align: right;\">12</td><td style = \"text-align: left;\">8</td></tr><tr><td class = \"rowNumber\" style = \"font-weight: bold; text-align: right;\">13</td><td style = \"text-align: left;\">8.5</td></tr><tr><td class = \"rowNumber\" style = \"font-weight: bold; text-align: right;\">14</td><td style = \"text-align: left;\">6</td></tr><tr><td class = \"rowNumber\" style = \"font-weight: bold; text-align: right;\">15</td><td style = \"text-align: left;\">5.5</td></tr><tr><td class = \"rowNumber\" style = \"font-weight: bold; text-align: right;\">16</td><td style = \"text-align: left;\">9</td></tr><tr><td class = \"rowNumber\" style = \"font-weight: bold; text-align: right;\">17</td><td style = \"text-align: left;\">7.5</td></tr></tbody></table></div>"
      ],
      "text/latex": [
       "\\begin{tabular}{r|c}\n",
       "\t& bathrooms\\\\\n",
       "\t\\hline\n",
       "\t& String7?\\\\\n",
       "\t\\hline\n",
       "\t1 & 1 \\\\\n",
       "\t2 & 1.5 \\\\\n",
       "\t3 & 2 \\\\\n",
       "\t4 & 2.5 \\\\\n",
       "\t5 & 3 \\\\\n",
       "\t6 & 3.5 \\\\\n",
       "\t7 & 4 \\\\\n",
       "\t8 & 7 \\\\\n",
       "\t9 & 4.5 \\\\\n",
       "\t10 & \\emph{missing} \\\\\n",
       "\t11 & 5 \\\\\n",
       "\t12 & 8 \\\\\n",
       "\t13 & 8.5 \\\\\n",
       "\t14 & 6 \\\\\n",
       "\t15 & 5.5 \\\\\n",
       "\t16 & 9 \\\\\n",
       "\t17 & 7.5 \\\\\n",
       "\\end{tabular}\n"
      ],
      "text/plain": [
       "\u001b[1m17×1 DataFrame\u001b[0m\n",
       "\u001b[1m Row \u001b[0m│\u001b[1m bathrooms \u001b[0m\n",
       "     │\u001b[90m String7?  \u001b[0m\n",
       "─────┼───────────\n",
       "   1 │ 1\n",
       "   2 │ 1.5\n",
       "   3 │ 2\n",
       "   4 │ 2.5\n",
       "   5 │ 3\n",
       "   6 │ 3.5\n",
       "   7 │ 4\n",
       "   8 │ 7\n",
       "   9 │ 4.5\n",
       "  10 │\u001b[90m missing   \u001b[0m\n",
       "  11 │ 5\n",
       "  12 │ 8\n",
       "  13 │ 8.5\n",
       "  14 │ 6\n",
       "  15 │ 5.5\n",
       "  16 │ 9\n",
       "  17 │ 7.5"
      ]
     },
     "execution_count": 11,
     "metadata": {},
     "output_type": "execute_result"
    }
   ],
   "source": []
  },
  {
   "cell_type": "code",
   "execution_count": 24,
   "id": "b4e9f940-28fe-4f59-a082-8475ec09d0d4",
   "metadata": {},
   "outputs": [
    {
     "data": {
      "text/plain": [
       "99492-element Vector{Union{Missing, Float64}}:\n",
       " 1.0\n",
       " 1.5\n",
       " 2.0\n",
       " 1.0\n",
       " 1.0\n",
       " 1.5\n",
       " 2.0\n",
       " 2.0\n",
       " 1.0\n",
       " 2.0\n",
       " 2.5\n",
       " 3.0\n",
       " 2.0\n",
       " ⋮\n",
       " 1.5\n",
       " 2.0\n",
       " 1.0\n",
       " 1.0\n",
       " 1.0\n",
       " 1.0\n",
       " 1.0\n",
       " 1.0\n",
       " 2.0\n",
       " 1.0\n",
       " 1.0\n",
       " 1.5"
      ]
     },
     "execution_count": 24,
     "metadata": {},
     "output_type": "execute_result"
    }
   ],
   "source": [
    "df[!, :bathrooms] = passmissing(parse).(Float64, df[:, :bathrooms])"
   ]
  },
  {
   "cell_type": "code",
   "execution_count": 22,
   "id": "b64d18fc-477a-4cee-9199-80cdaa2c832f",
   "metadata": {},
   "outputs": [
    {
     "data": {
      "text/plain": [
       "3-element Vector{Union{Missing, Float64}}:\n",
       " 122.2\n",
       "   2.0\n",
       "    missing"
      ]
     },
     "execution_count": 22,
     "metadata": {},
     "output_type": "execute_result"
    }
   ],
   "source": [
    "passmissing(parse).(Float64, [\"122.2\", \"2\", missing])"
   ]
  },
  {
   "cell_type": "code",
   "execution_count": null,
   "id": "acf73e85-df2d-4a62-90c7-53245448cf15",
   "metadata": {},
   "outputs": [],
   "source": [
    "unique(df[!, [:bathrooms]])"
   ]
  }
 ],
 "metadata": {
  "kernelspec": {
   "display_name": "Julia 1.11.1",
   "language": "julia",
   "name": "julia-1.11"
  },
  "language_info": {
   "file_extension": ".jl",
   "mimetype": "application/julia",
   "name": "julia",
   "version": "1.11.1"
  }
 },
 "nbformat": 4,
 "nbformat_minor": 5
}
