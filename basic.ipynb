{
 "cells": [
  {
   "cell_type": "code",
   "execution_count": 1,
   "id": "5f59de42-2ef2-4fc6-b531-ebb2adec85f4",
   "metadata": {},
   "outputs": [
    {
     "name": "stderr",
     "output_type": "stream",
     "text": [
      "/home/mikhail/.local/lib/python3.12/site-packages/tqdm/auto.py:21: TqdmWarning: IProgress not found. Please update jupyter and ipywidgets. See https://ipywidgets.readthedocs.io/en/stable/user_install.html\n",
      "  from .autonotebook import tqdm as notebook_tqdm\n"
     ]
    },
    {
     "name": "stdout",
     "output_type": "stream",
     "text": [
      "Path to dataset files: /home/mikhail/.cache/kagglehub/datasets/shashanks1202/apartment-rent-data/versions/1\n"
     ]
    }
   ],
   "source": [
    "import kagglehub\n",
    "\n",
    "# Download latest version\n",
    "path = kagglehub.dataset_download(\"shashanks1202/apartment-rent-data\")\n",
    "\n",
    "\n",
    "print(\"Path to dataset files:\", path)"
   ]
  },
  {
   "cell_type": "code",
   "execution_count": 2,
   "id": "82ec6f75-2a85-495a-8f3e-c4c7400f2496",
   "metadata": {},
   "outputs": [],
   "source": [
    "import pandas as pd"
   ]
  },
  {
   "cell_type": "code",
   "execution_count": 3,
   "id": "42e6c79b-7515-4ce5-9c46-1435ab34fc83",
   "metadata": {},
   "outputs": [
    {
     "name": "stderr",
     "output_type": "stream",
     "text": [
      "/tmp/ipykernel_31964/1097647895.py:2: DtypeWarning: Columns (15) have mixed types. Specify dtype option on import or set low_memory=False.\n",
      "  data = pd.read_csv(f'{path}/{rel_csv_path}', encoding='cp1252', sep=\";\")\n"
     ]
    }
   ],
   "source": [
    "rel_csv_path = 'apartments_for_rent_classified_100K/apartments_for_rent_classified_100K.csv'\n",
    "data = pd.read_csv(f'{path}/{rel_csv_path}', encoding='cp1252', sep=\";\")"
   ]
  },
  {
   "cell_type": "code",
   "execution_count": 4,
   "id": "d55b87a1-9a93-412f-8f2e-af960d0a4619",
   "metadata": {},
   "outputs": [
    {
     "data": {
      "text/plain": [
       "id                0.000000\n",
       "category          0.000000\n",
       "title             0.000000\n",
       "body              0.000000\n",
       "amenities        16.125920\n",
       "bathrooms         0.063322\n",
       "bedrooms          0.124633\n",
       "currency          0.000000\n",
       "fee               0.000000\n",
       "has_photo         0.000000\n",
       "pets_allowed     60.732521\n",
       "price             0.001005\n",
       "price_display     0.001005\n",
       "price_type        0.000000\n",
       "square_feet       0.000000\n",
       "address          92.016444\n",
       "cityname          0.303542\n",
       "state             0.303542\n",
       "latitude          0.025128\n",
       "longitude         0.025128\n",
       "source            0.000000\n",
       "time              0.000000\n",
       "dtype: float64"
      ]
     },
     "execution_count": 4,
     "metadata": {},
     "output_type": "execute_result"
    }
   ],
   "source": [
    "data.isnull().sum() / len(data) * 100"
   ]
  },
  {
   "cell_type": "code",
   "execution_count": 6,
   "id": "4a1ef3fa-a12b-4375-a1c5-3ce7596a3e1b",
   "metadata": {},
   "outputs": [
    {
     "data": {
      "text/plain": [
       "(99492, 22)"
      ]
     },
     "execution_count": 6,
     "metadata": {},
     "output_type": "execute_result"
    }
   ],
   "source": [
    "data.shape"
   ]
  },
  {
   "cell_type": "code",
   "execution_count": null,
   "id": "623fbf3d-bb65-4964-9367-a5b45584efa4",
   "metadata": {},
   "outputs": [],
   "source": []
  }
 ],
 "metadata": {
  "kernelspec": {
   "display_name": "Python 3 (ipykernel)",
   "language": "python",
   "name": "python3"
  },
  "language_info": {
   "codemirror_mode": {
    "name": "ipython",
    "version": 3
   },
   "file_extension": ".py",
   "mimetype": "text/x-python",
   "name": "python",
   "nbconvert_exporter": "python",
   "pygments_lexer": "ipython3",
   "version": "3.12.7"
  }
 },
 "nbformat": 4,
 "nbformat_minor": 5
}
